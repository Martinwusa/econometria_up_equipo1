{
 "cells": [
  {
   "cell_type": "markdown",
   "metadata": {},
   "source": [
    "# Proyecto *Valeria* Gómez del Campo Rábago y *Martín* Wulf Sánchez"
   ]
  },
  {
   "cell_type": "markdown",
   "metadata": {},
   "source": []
  },
  {
   "cell_type": "markdown",
   "metadata": {},
   "source": [
    "# Objetivo del modelo"
   ]
  },
  {
   "cell_type": "markdown",
   "metadata": {},
   "source": [
    "Con el presente proyecto de investigación, se busca que a través de la adaptación de un modelo econométrico se pueda obtener la probabilidad de que los países presenten el \"milagro económico\".\n",
    "Para poder modelar esto, se utilizará un modelo log-it en donde en la variable dependiente \"y\" al ser dicotómica debe ser discreta, por lo que no se podría medir de manera directa si los países crecían o no dado que el crecimiento es una variable continua que no se debe ajustar al modelo antes mencionado, sino que se debería utilizar una regresión común. Dadas estas cricunstancias,  nos vimos en la necesidad de crear una variable nueva llamada el \"milagro económico\". Dicha variable podrá tomar dos valores:\n",
    "\n",
    "- \\\"0\" en caso de fracaso, es decir en el caso en donde dadas las varaibles explicativas, el país NO haya presentado un crecimiento sostenido durante cinco años del 4\\% al año. \n",
    "- \\\"1\" en el caso de éxito, es decir en el caso en donde  dadas las varaibles explicativas, el país SI haya presentado un crecimiento sostenido durante cinco años del 4\\% al año. "
   ]
  },
  {
   "cell_type": "markdown",
   "metadata": {},
   "source": [
    "# Motivación"
   ]
  },
  {
   "cell_type": "markdown",
   "metadata": {},
   "source": [
    "Se decidió elegir el tema del crecimiento de los diferentes países para explicarlo y modelarlo por dos principales razones: \n",
    "\n",
    "   1. En primer lugar, nos pareció importante el ver y analizar en la práctica que factores pueden influir en el crecimiento de los países elegidos, porque además, si bien es cierto que las variables que en unos influyen de manera positiva,es decir, contribuyen al crecimiento de un país, en otros sucede lo contario, es decir, pueden hacer que la economía del país se contraiga o simplemente que no crezca, o el tercer caso sería que dichos factores fueran indiferentes para la variable dependiente.  \n",
    "   \n",
    "   \n",
    "   2. terminar por que y para que"
   ]
  },
  {
   "cell_type": "markdown",
   "metadata": {},
   "source": []
  },
  {
   "cell_type": "markdown",
   "metadata": {},
   "source": [
    "# Especificación y Justificación"
   ]
  },
  {
   "cell_type": "markdown",
   "metadata": {},
   "source": [
    "- y  = país presente o no el milagro económico\n",
    "\n",
    "- x1 = producto interno bruto (GDP/ PIB)\n",
    "\n",
    "- x2 = tasa de ahorro (chs_i) --> s\n",
    "\n",
    "- x3 = inflación\n",
    "\n",
    "- x4 = tfp --> índice utilizado para medir la diferencia en productividades del los países que se da debido a la diferencia en tecnologías.\n",
    "\n"
   ]
  },
  {
   "cell_type": "markdown",
   "metadata": {},
   "source": [
    "$ y^p $ = G ($\\alpha$ + $\\beta$ * $producto interno bruto^p$ + $\\beta$ * $tasa de ahorro^p$ +  $\\beta$ * $inflación^p$ +  $\\beta$ * $tfp^p$ + $\\mu$)"
   ]
  },
  {
   "cell_type": "markdown",
   "metadata": {},
   "source": [
    "Es importante notar que al ser un modelo no-lineal en parámetros, es decir ser un **modelo lineal de probabilidad**, se utiliza una función *G* también conocida como *sigmoide*. Esto debido a que como en este caso la variable diotómica *y* mide la probabilidad de que se obtenga el caso de éxito, en el caso particular de que un país presente el \"milagro económico\" se necesitan valores entre cero y uno. La condición necesaria sería entonces que las observaciones de *x* estuvieran cercanas a la media porque de no ser así, se podrían obtener valores por debajo de cero o por arriba de uno. En adición, como la $\\mu$ no se distribuye normal, es decir es heteroscedástica se **pueden generar probabilidades menores a cero o mayores a uno**, es decir:\n",
    "$ y^* $ (por $ y ^* $ se entiende la y estimada) debe ser **0 ó 1**, pero en una regresión **$\\beta$0 + $\\beta$1 X**, la **x** puede tomar valores muy grandes por lo que puede hacer que el modelo no funcione y den probabilidades erróneas. \n",
    "Es por esto que como se explicó con anterioridad se utiliza la *G* o *sigmoide* tmabién conocida con *función logística* cuya función será el normalizar **$\\beta$0 + $\\beta$1 X** para que me den números entre 0 y 1. \n",
    "\n",
    "ECUACIÓN DE G"
   ]
  },
  {
   "cell_type": "markdown",
   "metadata": {},
   "source": [
    "# Teoría Selección de Variables"
   ]
  },
  {
   "cell_type": "markdown",
   "metadata": {},
   "source": [
    "Crecimiento pq usamos las variables"
   ]
  },
  {
   "cell_type": "markdown",
   "metadata": {},
   "source": [
    "# Base de datos :"
   ]
  },
  {
   "cell_type": "markdown",
   "metadata": {},
   "source": [
    "## Cómo las vamos a obtener y fuentes"
   ]
  },
  {
   "cell_type": "markdown",
   "metadata": {},
   "source": [
    "   * https://es.inflation.eu/tasas-de-inflacion/estados-unidos/inflacion-historica/ipc-inflacion-estados-unidos.as\n",
    "   * WBdata API https://wbdata.readthedocs.io/en/stable/\n",
    "   * https://www.inegi.org.mx\n",
    "   * https://www.ine.es/varipc/\n",
    "   * https://es.inflation.eu/tasas-de-inflacion/china/inflacion-historica/ipc-inflacion-china.aspx\n"
   ]
  },
  {
   "cell_type": "markdown",
   "metadata": {},
   "source": [
    "Probaremos este modelo para un periodo de tiempo acotado que abarcará desde 1990 al 2010 y nuestro objetivo será identificar que países del mundo vivieron durante las dos décadas el \"milagro económico\". \n",
    "Elegimos este periodo de tiempo por diversas razones: \n",
    "\n",
    "* En la década de los noventas ocurrireon varios eventos que hicieron que fueran años buenos para el mundo, los cuales pudieron haber tenido un impacto ya sea positivo o negativo en la economia mundial: \n",
    "  * En África: Liberaran a Nelson Mandela de prisión por haber luchado contra el racisimo *apartheid*, terminó con el autoritarismo al volverse el primer presidente negro.\n",
    "  * En Alemania: Después de la caída del Muro de Berlín y de estar separados en Alemania del Este (socialista) y del Oeste, por alrededor de treinta años se unificaron, además sube como Presidente Lech Walesa. \n",
    "  * En Estados Unidos: Hubo un ataque terrorista en 1993 al explotar una bomba casera en el estacionammiento de las Torres Gemelas.\n",
    "  * En lo que ahora es Rusia y algunos países más: caída de la URSS (Unión Soviética) fue un Estado conformado por 15 Repúblicas que por el amplio territorio que abarcó llegó a teneruna gran influencia económica, política, tecnológica e ideológica a nivel mundial.\n",
    "  * Dicha década tmabién se destacó por grandes avances en la tecnología y un ejemplo de esto fue el nacimiento de Dolly, la primera oveja clonada de una célula adulta. \n",
    "  * En Inglaterra: muerte de la Princesa Diana de Gales en un accidente automovilítico cuando iba con su amante Dodi Al-Fayed.\n",
    "  * Burbuja puntocom o Dotcom Boom: fue una burbuja de inversión especulativa n donde los inversionistas estaban interesado en meterle dinero a cualquier empresa que estuviera relacionada con Internet. \n",
    "  * En Europa, en la Unión Europea comienza mercado de las \"cuatro libertades\" para el libre tránisto de personas, mercancias, servicios y capitales, además, en esa década se suman más países.\n",
    "  * Hubo grandes desastres naturales, que dejaron las ciudades devastadas y qe costó mucho dinero reconstruirlas. Los huracanes Andrew y Mitch. \n",
    "  * Un avance importante en la medicina fue el proyecto del genoma humano, en donde se estudió el ADN para ver las bases y los pares que los componen, además de entender y estudiar su funcionamiento. \n",
    "  * Un avance social fue la visita del Papa Juan Pablo II a Cuba, en donde le pidió al mandatario/ dictador Fidel Castro que Cuba se abriera al mundo. \n",
    "\n",
    "Finalmente, elegimos la década de los 2000 motivados por una razón principal: la crisis de la hipotecas y del sector inmboliario que comenzó en los Estados Unidos en Wall Street en 2008- 2009 y que terminó en el cierre de algunas empresas inmobiliarias y Bancos, algunos ejemplos son: Lehman Brothers, Bear Stearns, o la compra de bancos por otros: Bank of America adquiere Merrill Lynch, además de que el gobierno tuviera que utilizar dinero del país para hacer préstamos y así poder rescatar a algunos bancos. Como es de imaginarse, esta crisis trajo terribles consecuencias tanto para la economía de este país como para la de algunos otros. \n",
    "  "
   ]
  },
  {
   "cell_type": "markdown",
   "metadata": {},
   "source": [
    "Variables"
   ]
  },
  {
   "cell_type": "markdown",
   "metadata": {},
   "source": [
    "# Literatura"
   ]
  },
  {
   "cell_type": "markdown",
   "metadata": {},
   "source": [
    "Como se ha explicado a lo largo del trabajo hay tres temas principales que se desarrollarán y que posiblemente requieran de investigaciones adicionales o consultas para poder aclarar duas, entender conceptos, analizar resultados y realizar el trabajo de la mejor manera posible:\n",
    "\n",
    " ## a) Econometría\n",
    "- Gujarati D.N., Porter D.C., (2010. 5° Edición). *Econometría*. México: Mc GrawHill.\n",
    "- Wooldridge J. M.. (5° Edición). *Introductory Econometrics A Modern Approach*. Estados Unidos de América: Cengage Learning.\n",
    "- Brooks C.. (Segunda Edición). *Introductory Ecnometrics for Finance*. Estados Unidos de América: Cambridge.\n",
    "- Hamilton J. D.. (No especificado). *Time Series Analysis*. Estados Unidos De América: Princeton University.\n",
    "- Stock J. H. & Waston M. W.. (Tercera Edición). *Introduction to Econometrics*. Estados Unidos de Amércia: Pearson.\n",
    "\n",
    "## b) Crecimiento Económico\n",
    "- Acemoglu D. *Introduction to Modern Economic Growth* Estados Unidos de America: Princeton University Press. \n",
    "- Charles I.J. & Vollrath D. (Tercera Edición) *Introduction to Economic Growth*.Estados Unidos de América: W.W.Norton&Company.\n",
    "- Weil D. N.(Tercera Edición) *Economic Growth-Pearson Education*. Estados Unidos de América: Pearson.\n",
    "- Romer D. (Cuarta Edición) *Advanced Macroeconomics*. Estados Unidos de América:Mc GrawHill.\n",
    "- Aghion P. & Howitt P. W. *The Economics of Growth* . Estados Unidos de America: The MIT Press.\n",
    "- Barro R. J.& Sala-i-Martin X.  (Segunda Edición) *Economic Growth*. Estados Unidos de América: The MIT Press. \n",
    "\n",
    "\n",
    "## c) Crisis hipotecaria 2008-2009\n",
    "- Gertler M. & Gilchrist S.. (2018). *What Happened: Financial Factors in the Great Recession*. 30 de marzo del 2020., de JSTOR, American Economic Association Sitio web: https://www.jstor.org/stable/10.2307/26473063\n",
    "\n",
    "## * Profesor:\n",
    "- **Doctor Esteban Colla** \\\n",
    "    \\* Profesor Investigador de la Universiad Panamericana. \\\n",
    "    \\* Imparte materias de economía como crecimiento económico, álgebra lineal, economía intergal, microeconomía, entre muchas otras.\n",
    "     "
   ]
  },
  {
   "cell_type": "markdown",
   "metadata": {},
   "source": [
    "# Referencias:\n",
    "- https://www.nationalgeographicla.com/historia/2019/11/por-que-se-levanto-el-muro-de-berlin-y-como-cayo\n",
    "- https://www.aarp.org/espanol/politica/historia/info-2017/sucesos-importantes-que-ocurrieron-en-1990-fotos.html#slide3\n",
    "- https://www.bbc.com/mundo/noticias-internacional-37864744\n",
    "- https://www.techopedia.com/definition/26175/dot-com-boom\n",
    "- https://www.europarl.europa.eu/about-parliament/es/in-the-past/the-parliament-and-the-treaties/maastricht-treaty\n",
    "- https://www.google.com/search?ei=vyOEXpLXB8zAsAWYrJuADg&q=cuando+se+creo+union+europea&oq=cuando+se+crea+union&gs_lcp=CgZwc3ktYWIQAxgAMgYIABAWEB4yBggAEBYQHjIGCAAQFhAeMgYIABAWEB4yBggAEBYQHjIGCAAQFhAeMgYIABAWEB46BAgAEEc6BAgAEEM6AggAOgUIABCDAToHCAAQRhD7AToGCAAQDRAeUOkOWOEtYPo5aABwAXgAgAHXA4gBpxGSAQk3LjQuMS4xLjGYAQCgAQGqAQdnd3Mtd2l6&sclient=psy-ab\n",
    "- https://europa.eu/european-union/about-eu/history_es\n",
    "- https://www.exactchange.es/blog/historia-de-las-monedas-ii-el-euro\n",
    "- https://www.genome.gov/breve-historia-del-proyecto-del-genoma-humano\n",
    "\n"
   ]
  },
  {
   "cell_type": "code",
   "execution_count": 14,
   "metadata": {},
   "outputs": [],
   "source": [
    "import warnings\n",
    "warnings.filterwarnings('ignore')"
   ]
  },
  {
   "cell_type": "code",
   "execution_count": 15,
   "metadata": {},
   "outputs": [],
   "source": [
    "wb_regions = ['Arab World', 'Caribbean small states',\n",
    "              'Central Europe and the Baltics', 'Early-demographic dividend',\n",
    "              'East Asia & Pacific', 'East Asia & Pacific (excluding high income)',\n",
    "              'East Asia & Pacific (IDA & IBRD countries)',\n",
    "              'Euro area', 'Europe & Central Asia',\n",
    "              'Europe & Central Asia (excluding high income)',\n",
    "              'Europe & Central Asia (IDA & IBRD countries)',\n",
    "              'European Union',\n",
    "              'Fragile and conflict affected situations',\n",
    "              'Heavily indebted poor countries (HIPC)',\n",
    "              'High income',\n",
    "              'IBRD only',\n",
    "              'IDA & IBRD total',\n",
    "              'IDA blend',\n",
    "              'IDA only',\n",
    "              'IDA total',\n",
    "              'Late-demographic dividend',\n",
    "              'Latin America & Caribbean',\n",
    "              'Latin America & Caribbean (excluding high income)',\n",
    "              'Latin America & the Caribbean (IDA & IBRD countries)',\n",
    "              'Least developed countries',\n",
    "              'Least developed countries: UN classification',\n",
    "              'Low & middle income',\n",
    "              'Low income',\n",
    "              'Lower middle income',\n",
    "              'Middle East & North Africa',\n",
    "              'Middle East & North Africa (excluding high income)',\n",
    "              'Middle East & North Africa (IDA & IBRD countries)',\n",
    "              'Middle income',\n",
    "              'North America',\n",
    "              'Not classified',\n",
    "              'OECD members',\n",
    "              'Other small states',\n",
    "              'Pacific island small states',\n",
    "              'Post-demographic dividend',\n",
    "              'Pre-demographic dividend',\n",
    "              'Small states',\n",
    "              'South Asia',\n",
    "              'South Asia (IDA & IBRD)',\n",
    "              'Sub-Saharan Africa',\n",
    "              'Sub-Saharan Africa (excluding high income)',\n",
    "              'Sub-Saharan Africa (IDA & IBRD countries)',\n",
    "              'Upper middle income',\n",
    "              'World']"
   ]
  },
  {
   "cell_type": "code",
   "execution_count": 16,
   "metadata": {},
   "outputs": [],
   "source": [
    "import wbdata\n",
    "import matplotlib.pyplot as plt\n",
    "plt.style.use('ggplot')\n",
    "import pandas as pd\n",
    "import numpy as np\n",
    "import statsmodels.api as sm"
   ]
  },
  {
   "cell_type": "code",
   "execution_count": 2,
   "metadata": {},
   "outputs": [],
   "source": []
  },
  {
   "cell_type": "code",
   "execution_count": null,
   "metadata": {},
   "outputs": [],
   "source": []
  }
 ],
 "metadata": {
  "kernelspec": {
   "display_name": "Python 3",
   "language": "python",
   "name": "python3"
  },
  "language_info": {
   "codemirror_mode": {
    "name": "ipython",
    "version": 3
   },
   "file_extension": ".py",
   "mimetype": "text/x-python",
   "name": "python",
   "nbconvert_exporter": "python",
   "pygments_lexer": "ipython3",
   "version": "3.7.4"
  }
 },
 "nbformat": 4,
 "nbformat_minor": 2
}
