{
 "cells": [
  {
   "cell_type": "markdown",
   "metadata": {},
   "source": [
    "# Proyecto Valeria y Martín "
   ]
  },
  {
   "cell_type": "markdown",
   "metadata": {},
   "source": [
    "## Objetivo del modelo: Obseravar si un pais crece o decrece "
   ]
  },
  {
   "cell_type": "markdown",
   "metadata": {},
   "source": [
    "    - Motivación: dadas las circunstacias actuales de la pandemia, no resulto intresante como sera el efecto en los paises anterioente seleccionados, ademas de intentar predecir la recuperación de los mismos."
   ]
  },
  {
   "cell_type": "markdown",
   "metadata": {},
   "source": [
    "Paises para observar: \n",
    " * Mexico\n",
    " * Eapaña\n",
    " * Estados Unidos  \n",
    " * China\n",
    "\n",
    "\n",
    "\n"
   ]
  },
  {
   "cell_type": "markdown",
   "metadata": {},
   "source": [
    "y  = 1 es de de que el pais crecio\n",
    "\n",
    "x1 = gdp\n",
    "\n",
    "x2 = inflación\n",
    "\n",
    "x3 = tasa de interés \n",
    "\n",
    "x4 = pobreza %\n",
    "\n"
   ]
  },
  {
   "cell_type": "markdown",
   "metadata": {},
   "source": [
    "$ y^p $ = G ($\\alpha$ + $\\beta$ * $gdp^p$ + $\\beta$ * $inflacion^p$ +  $\\beta$ * $tasa   de   interes^p$ +  $\\beta$ * $pobreza\\% ^p$ + $\\mu$)\n",
    "\n"
   ]
  },
  {
   "cell_type": "markdown",
   "metadata": {},
   "source": [
    "# Teoría en la que se basa nuestro modelo:\n"
   ]
  },
  {
   "cell_type": "markdown",
   "metadata": {},
   "source": [
    "* \n",
    "\n",
    "\n"
   ]
  },
  {
   "cell_type": "markdown",
   "metadata": {},
   "source": [
    "# Base de datos :"
   ]
  },
  {
   "cell_type": "markdown",
   "metadata": {},
   "source": [
    "   * https://es.inflation.eu/tasas-de-inflacion/estados-unidos/inflacion-historica/ipc-inflacion-estados-unidos.as\n",
    "   * WBdata API https://wbdata.readthedocs.io/en/stable/\n",
    "   * https://www.inegi.org.mx\n",
    "   * https://www.ine.es/varipc/\n",
    "   * https://es.inflation.eu/tasas-de-inflacion/china/inflacion-historica/ipc-inflacion-china.aspx\n"
   ]
  },
  {
   "cell_type": "code",
   "execution_count": 14,
   "metadata": {},
   "outputs": [],
   "source": [
    "import warnings\n",
    "warnings.filterwarnings('ignore')"
   ]
  },
  {
   "cell_type": "code",
   "execution_count": 15,
   "metadata": {},
   "outputs": [],
   "source": [
    "wb_regions = ['Arab World', 'Caribbean small states',\n",
    "              'Central Europe and the Baltics', 'Early-demographic dividend',\n",
    "              'East Asia & Pacific', 'East Asia & Pacific (excluding high income)',\n",
    "              'East Asia & Pacific (IDA & IBRD countries)',\n",
    "              'Euro area', 'Europe & Central Asia',\n",
    "              'Europe & Central Asia (excluding high income)',\n",
    "              'Europe & Central Asia (IDA & IBRD countries)',\n",
    "              'European Union',\n",
    "              'Fragile and conflict affected situations',\n",
    "              'Heavily indebted poor countries (HIPC)',\n",
    "              'High income',\n",
    "              'IBRD only',\n",
    "              'IDA & IBRD total',\n",
    "              'IDA blend',\n",
    "              'IDA only',\n",
    "              'IDA total',\n",
    "              'Late-demographic dividend',\n",
    "              'Latin America & Caribbean',\n",
    "              'Latin America & Caribbean (excluding high income)',\n",
    "              'Latin America & the Caribbean (IDA & IBRD countries)',\n",
    "              'Least developed countries',\n",
    "              'Least developed countries: UN classification',\n",
    "              'Low & middle income',\n",
    "              'Low income',\n",
    "              'Lower middle income',\n",
    "              'Middle East & North Africa',\n",
    "              'Middle East & North Africa (excluding high income)',\n",
    "              'Middle East & North Africa (IDA & IBRD countries)',\n",
    "              'Middle income',\n",
    "              'North America',\n",
    "              'Not classified',\n",
    "              'OECD members',\n",
    "              'Other small states',\n",
    "              'Pacific island small states',\n",
    "              'Post-demographic dividend',\n",
    "              'Pre-demographic dividend',\n",
    "              'Small states',\n",
    "              'South Asia',\n",
    "              'South Asia (IDA & IBRD)',\n",
    "              'Sub-Saharan Africa',\n",
    "              'Sub-Saharan Africa (excluding high income)',\n",
    "              'Sub-Saharan Africa (IDA & IBRD countries)',\n",
    "              'Upper middle income',\n",
    "              'World']"
   ]
  },
  {
   "cell_type": "code",
   "execution_count": 16,
   "metadata": {},
   "outputs": [],
   "source": [
    "import wbdata\n",
    "import matplotlib.pyplot as plt\n",
    "plt.style.use('ggplot')\n",
    "import pandas as pd\n",
    "import numpy as np\n",
    "import statsmodels.api as sm"
   ]
  },
  {
   "cell_type": "code",
   "execution_count": 1,
   "metadata": {},
   "outputs": [],
   "source": [
    "# Andrés"
   ]
  },
  {
   "cell_type": "code",
   "execution_count": null,
   "metadata": {},
   "outputs": [],
   "source": []
  }
 ],
 "metadata": {
  "kernelspec": {
   "display_name": "Python 3",
   "language": "python",
   "name": "python3"
  },
  "language_info": {
   "codemirror_mode": {
    "name": "ipython",
    "version": 3
   },
   "file_extension": ".py",
   "mimetype": "text/x-python",
   "name": "python",
   "nbconvert_exporter": "python",
   "pygments_lexer": "ipython3",
   "version": "3.7.4"
  }
 },
 "nbformat": 4,
 "nbformat_minor": 2
}
